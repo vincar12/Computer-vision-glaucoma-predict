{
 "cells": [
  {
   "cell_type": "markdown",
   "metadata": {},
   "source": [
    "# Model Inference Glaucoma"
   ]
  },
  {
   "cell_type": "markdown",
   "metadata": {},
   "source": [
    "This notebook is created as an inference for glaucoma detection model"
   ]
  },
  {
   "cell_type": "markdown",
   "metadata": {},
   "source": [
    "## Import Library"
   ]
  },
  {
   "cell_type": "code",
   "execution_count": 8,
   "metadata": {},
   "outputs": [],
   "source": [
    "import numpy as np\n",
    "import tensorflow as tf\n",
    "from tensorflow.keras.models import load_model\n",
    "from tensorflow.keras.preprocessing.image import load_img, img_to_array"
   ]
  },
  {
   "cell_type": "markdown",
   "metadata": {},
   "source": [
    "## Load Model and Image"
   ]
  },
  {
   "cell_type": "markdown",
   "metadata": {},
   "source": [
    "Image chosen is a confirmed DME image from the internet"
   ]
  },
  {
   "cell_type": "code",
   "execution_count": 9,
   "metadata": {},
   "outputs": [
    {
     "name": "stderr",
     "output_type": "stream",
     "text": [
      "/opt/anaconda3/lib/python3.11/site-packages/keras/src/saving/saving_lib.py:576: UserWarning: Skipping variable loading for optimizer 'adam', because it has 2 variables whereas the saved optimizer has 26 variables. \n",
      "  saveable.load_own_variables(weights_store.get(inner_path))\n"
     ]
    }
   ],
   "source": [
    "# Load the trained model\n",
    "model = load_model('/Users/vincartheoseta/Hacktiv/Phase 2/GC7/p2-ftds018-hck-g7-new-vincar12/model_sequential.keras')\n",
    "image_path = '/Users/vincartheoseta/Hacktiv/Phase 2/GC7/p2-ftds018-hck-g7-new-vincar12/DMEInfer.png'"
   ]
  },
  {
   "cell_type": "markdown",
   "metadata": {},
   "source": [
    "## Preprocess"
   ]
  },
  {
   "cell_type": "code",
   "execution_count": 10,
   "metadata": {},
   "outputs": [],
   "source": [
    "# Load and process image\n",
    "image = load_img(image_path, target_size=(160, 160))\n",
    "img_array = img_to_array(image)\n",
    "img_array = tf.expand_dims(img_array, 0)  # Create a batch\n",
    "\n",
    "# Normalize the image\n",
    "img_array = img_array / 255.0"
   ]
  },
  {
   "cell_type": "markdown",
   "metadata": {},
   "source": [
    "## Predict"
   ]
  },
  {
   "cell_type": "code",
   "execution_count": 11,
   "metadata": {},
   "outputs": [
    {
     "name": "stdout",
     "output_type": "stream",
     "text": [
      "\u001b[1m1/1\u001b[0m \u001b[32m━━━━━━━━━━━━━━━━━━━━\u001b[0m\u001b[37m\u001b[0m \u001b[1m0s\u001b[0m 103ms/step\n",
      "Predicted Class Index: 1\n",
      "Predicted Class Label: DME\n"
     ]
    }
   ],
   "source": [
    "# Make prediction\n",
    "prediction = model.predict(img_array)\n",
    "\n",
    "# Get index of the highest probability\n",
    "predicted_class_index = np.argmax(prediction, axis=1)\n",
    "\n",
    "# Class labels\n",
    "class_labels = ['CNV', 'DME', 'DRUSEN', 'NORMAL']\n",
    "\n",
    "# Replace index with class labels\n",
    "predicted_class_label = class_labels[predicted_class_index[0]]\n",
    "\n",
    "print(f\"Predicted Class Index: {predicted_class_index[0]}\")\n",
    "print(f\"Predicted Class Label: {predicted_class_label}\")"
   ]
  }
 ],
 "metadata": {
  "kernelspec": {
   "display_name": "base",
   "language": "python",
   "name": "python3"
  },
  "language_info": {
   "codemirror_mode": {
    "name": "ipython",
    "version": 3
   },
   "file_extension": ".py",
   "mimetype": "text/x-python",
   "name": "python",
   "nbconvert_exporter": "python",
   "pygments_lexer": "ipython3",
   "version": "3.11.9"
  }
 },
 "nbformat": 4,
 "nbformat_minor": 2
}
